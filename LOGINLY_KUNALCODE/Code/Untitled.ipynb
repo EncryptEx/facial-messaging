{
 "cells": [
  {
   "cell_type": "code",
   "execution_count": 2,
   "id": "american-transformation",
   "metadata": {},
   "outputs": [],
   "source": [
    "import os"
   ]
  },
  {
   "cell_type": "code",
   "execution_count": 3,
   "id": "exotic-messenger",
   "metadata": {},
   "outputs": [
    {
     "name": "stdout",
     "output_type": "stream",
     "text": [
      "All the Images\n",
      "Name: robert\tEmail:robertDowney202@gmail.com\n",
      "\t download (2).jpg\n",
      "\t download (3).jpg\n",
      "\t download (4).jpg\n",
      "\t download (5).jpg\n",
      "\t download (6).jpg\n",
      "\t download.jpg\n",
      "\t images (1).jpg\n",
      "\t images (2).jpg\n",
      "\t images.jpg\n",
      "Name: tom\tEmail:Tomholand1@gmail.com\n",
      "\t download (1).jpg\n",
      "\t download (2).jpg\n",
      "\t download.jpg\n",
      "\t image.jpg\n",
      "\t images (1).jpg\n",
      "\t images (2).jpg\n",
      "\t images (3).jpg\n",
      "\t images.jpg\n",
      "\t tom-holland-photo-jason-kempin-getty-images-801510482-profile.jpg\n",
      "\t Tom_Holland_by_Gage_Skidmore.jpg\n"
     ]
    }
   ],
   "source": [
    "print(\"All the Images\")\n",
    "for i in os.listdir(\"../Storage\"):\n",
    "    print(\"Name: {}\\tEmail:{}\".format(i[0:i.find(\"_\")], i[i.find(\"_\")+1:]))\n",
    "    ctName = 0\n",
    "    for j in os.listdir(\"../Storage/\" + i):\n",
    "        print(\"\\t\",j)\n",
    "        #os.rename(\"../Storage/\" + i + \"/\" + j,\"Img_\"+ str(0) +\".jpg\")\n",
    "        #Instead of renaming create new folder within it and duplicate Images there"
   ]
  },
  {
   "cell_type": "code",
   "execution_count": 4,
   "id": "considered-objective",
   "metadata": {},
   "outputs": [],
   "source": [
    "from PIL import Image\n",
    "imgPath = \"../Storage/tom_Tomholand1@gmail.com/image.jpg\"\n",
    "im = Image.open(imgPath)"
   ]
  },
  {
   "cell_type": "code",
   "execution_count": 5,
   "id": "fuzzy-fashion",
   "metadata": {},
   "outputs": [],
   "source": [
    "#im"
   ]
  },
  {
   "cell_type": "code",
   "execution_count": null,
   "id": "portuguese-oliver",
   "metadata": {},
   "outputs": [],
   "source": []
  },
  {
   "cell_type": "code",
   "execution_count": null,
   "id": "relative-consistency",
   "metadata": {},
   "outputs": [],
   "source": []
  },
  {
   "cell_type": "code",
   "execution_count": 25,
   "id": "requested-armstrong",
   "metadata": {},
   "outputs": [],
   "source": []
  },
  {
   "cell_type": "code",
   "execution_count": 26,
   "id": "charming-government",
   "metadata": {},
   "outputs": [],
   "source": [
    "from google.cloud import storage\n",
    "def list_blobs(bucket_name):\n",
    "    storage_client = storage.Client.from_service_account_json(key)\n",
    "    blobs = storage_client.list_blobs(bucket_name)\n",
    "    for blob in blobs:\n",
    "        print(blob.name)\n",
    "def list_buckets():\n",
    "    storage_client = storage.Client.from_service_account_json(key)\n",
    "    buckets = storage_client.list_buckets()\n",
    "    for bucket in buckets:\n",
    "        print(bucket.name)"
   ]
  },
  {
   "cell_type": "code",
   "execution_count": 27,
   "id": "exotic-london",
   "metadata": {},
   "outputs": [],
   "source": [
    "#KEYDownloadedName = \"key.json\"\n",
    "#bucket = storage_client.bucket(\"loginly_storage\")\n",
    "#blob = bucket.get_blob(\"GCPKEY/loginly.json\")\n",
    "#blob.download_to_filename(KEYDownloadedName)"
   ]
  },
  {
   "cell_type": "code",
   "execution_count": 28,
   "id": "regional-starter",
   "metadata": {},
   "outputs": [],
   "source": []
  },
  {
   "cell_type": "code",
   "execution_count": null,
   "id": "illegal-biography",
   "metadata": {},
   "outputs": [],
   "source": [
    "# This is the function to take in the 10 image names and the user's email and user's \n",
    "# name and crops the image and upload to proper folder in GCP \n",
    "#-----\n",
    "# INPUT:   IMG1, IMG2, IMG3 ... IMG10, NAME, EMAIL\n",
    "#--------------\n",
    "key = \"../GCPKEY/loginly.json\"\n",
    "harascade = '../Models/haarcascades/haarcascade_frontalface_alt2.xml'\n",
    "# key.json                              file on function      \n",
    "# haarcascade_frontalface_alt2.xml      file on function \n",
    "#--------------\n",
    "#fileName0 = \n",
    "name = \"robert\"\n",
    "email = \"robertDowney202@gmail.com\"\n",
    "folder = name + \"_\" + email\n",
    "fileName1 = \"download (2).jpg\"\n",
    "fileName2 = \"download (3).jpg\"\n",
    "fileName3 = \"download (4).jpg\"\n",
    "fileName4 = \"download (5).jpg\"\n",
    "fileName5 = \"download (6).jpg\"\n",
    "fileName6 = \"download.jpg\"\n",
    "fileName7 = \"images (1).jpg\"\n",
    "fileName8 = \"images (2).jpg\"\n",
    "fileName9 = \"images.jpg\"\n",
    "lstOfFiles = [fileName1,fileName2,fileName3,fileName4,fileName5,fileName6,fileName7,fileName8,fileName9]\n",
    "#-------------\n",
    "os.chdir(\"/Users/kunal/Documents/AAPersonalAIPROJECT/LOGINLY/Code\") # Comment later\n",
    "storage_client = storage.Client.from_service_account_json(key) #\"key.json\"\n",
    "bucket_name = 'loginly_storage'\n",
    "bucket = storage_client.bucket(bucket_name)\n",
    "ctFileName = 1\n",
    "for i in lstOfFiles:\n",
    "    blob = bucket.blob(\"Storage/\"+folder+\"/\" + i)\n",
    "    blob.download_to_filename(\"Img_org_\" + str(ctFileName) + \".jpg\")\n",
    "    ctFileName+=1\n",
    "#--------------\n",
    "downloadedFilesName = []\n",
    "for i in range(len(lstOfFiles)):\n",
    "    downloadedFilesName.append(\"Img_org_\" + str(i+1) + \".jpg\")\n",
    "#-------------\n",
    "os.mkdir(folder + \"_CLEAN\")\n",
    "ctFileNameNew = 1\n",
    "newFilesName = []\n",
    "for i in downloadedFilesName:\n",
    "    img = cv2.imread(i)\n",
    "    gray = cv2.cvtColor(img, cv2.COLOR_BGR2GRAY)\n",
    "    face_cascade = cv2.CascadeClassifier(harascade)\n",
    "    faces = face_cascade.detectMultiScale(gray, 1.1, 4)\n",
    "    #1.1: scale factor, it specifies how much the image size is reduced with each scale. It improves detection.\n",
    "    #4: MinNeighbours, specifies how many neighbors each candidate rectangle should have to retain.\n",
    "    if len(faces) > 0:\n",
    "        x,y,w,h = faces[0]\n",
    "    else:\n",
    "        x,y = 0,0\n",
    "        w,h = img.shape[0:2]\n",
    "    crop_img = img[y:y+h, x:x+w]\n",
    "    currentDir = os.getcwd()\n",
    "    os.chdir(folder + \"_CLEAN\")\n",
    "    cv2.imwrite(\"Img_NEW_\" + str(ctFileNameNew) + \".jpg\", crop_img)\n",
    "    os.chdir(currentDir)\n",
    "    newFilesName.append(\"Img_NEW_\" + str(ctFileNameNew) + \".jpg\")\n",
    "    ctFileNameNew+=1\n",
    "#-------------- \n",
    "#upload new files\n",
    "os.chdir(folder + \"_CLEAN\")\n",
    "for i in newFilesName:\n",
    "    blob = bucket.blob(\"CleanData/\" +folder+\"/\"+ i)\n",
    "    blob.upload_from_filename(i)"
   ]
  },
  {
   "cell_type": "code",
   "execution_count": 65,
   "id": "built-investigation",
   "metadata": {},
   "outputs": [],
   "source": []
  },
  {
   "cell_type": "code",
   "execution_count": 66,
   "id": "assured-manufacturer",
   "metadata": {},
   "outputs": [],
   "source": [
    "from imutils import paths\n",
    "import face_recognition\n",
    "import argparse\n",
    "import pickle\n",
    "import cv2\n",
    "import os"
   ]
  },
  {
   "cell_type": "code",
   "execution_count": null,
   "id": "prescribed-mouse",
   "metadata": {},
   "outputs": [],
   "source": []
  },
  {
   "cell_type": "code",
   "execution_count": null,
   "id": "portable-principle",
   "metadata": {},
   "outputs": [],
   "source": []
  },
  {
   "cell_type": "code",
   "execution_count": null,
   "id": "sharing-uncertainty",
   "metadata": {},
   "outputs": [],
   "source": []
  }
 ],
 "metadata": {
  "kernelspec": {
   "display_name": "Python 3",
   "language": "python",
   "name": "python3"
  },
  "language_info": {
   "codemirror_mode": {
    "name": "ipython",
    "version": 3
   },
   "file_extension": ".py",
   "mimetype": "text/x-python",
   "name": "python",
   "nbconvert_exporter": "python",
   "pygments_lexer": "ipython3",
   "version": "3.8.6"
  }
 },
 "nbformat": 4,
 "nbformat_minor": 5
}
